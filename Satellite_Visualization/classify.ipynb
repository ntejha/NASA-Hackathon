{
 "cells": [
  {
   "cell_type": "code",
   "execution_count": 3,
   "metadata": {},
   "outputs": [
    {
     "name": "stderr",
     "output_type": "stream",
     "text": [
      "/home/akz-workhorse/programming/NASA-Hackathon/.venv/lib/python3.11/site-packages/sklearn/base.py:376: InconsistentVersionWarning: Trying to unpickle estimator LabelEncoder from version 1.4.1.post1 when using version 1.4.2. This might lead to breaking code or invalid results. Use at your own risk. For more info please refer to:\n",
      "https://scikit-learn.org/stable/model_persistence.html#security-maintainability-limitations\n",
      "  warnings.warn(\n",
      "/home/akz-workhorse/programming/NASA-Hackathon/.venv/lib/python3.11/site-packages/rasterio/__init__.py:304: NotGeoreferencedWarning: Dataset has no geotransform, gcps, or rpcs. The identity matrix will be returned.\n",
      "  dataset = DatasetReader(path, driver=driver, sharing=sharing, **kwargs)\n"
     ]
    },
    {
     "ename": "AttributeError",
     "evalue": "module 'maxflow' has no attribute 'Graph'",
     "output_type": "error",
     "traceback": [
      "\u001b[0;31m---------------------------------------------------------------------------\u001b[0m",
      "\u001b[0;31mAttributeError\u001b[0m                            Traceback (most recent call last)",
      "Cell \u001b[0;32mIn[3], line 18\u001b[0m\n\u001b[1;32m     15\u001b[0m request\u001b[38;5;241m.\u001b[39murlretrieve(tile_url, tile_filename)\n\u001b[1;32m     17\u001b[0m \u001b[38;5;66;03m# use the pre-trained model to segment the image into tree/non-tree-pixels\u001b[39;00m\n\u001b[0;32m---> 18\u001b[0m y_pred \u001b[38;5;241m=\u001b[39m \u001b[43mdtr\u001b[49m\u001b[38;5;241;43m.\u001b[39;49m\u001b[43mClassifier\u001b[49m\u001b[43m(\u001b[49m\u001b[43m)\u001b[49m\u001b[38;5;241;43m.\u001b[39;49m\u001b[43mpredict_img\u001b[49m\u001b[43m(\u001b[49m\u001b[43mtile_filename\u001b[49m\u001b[43m)\u001b[49m\n\u001b[1;32m     20\u001b[0m \u001b[38;5;66;03m# side-by-side plot of the tile and the predicted tree/non-tree pixels\u001b[39;00m\n\u001b[1;32m     21\u001b[0m figwidth, figheight \u001b[38;5;241m=\u001b[39m plt\u001b[38;5;241m.\u001b[39mrcParams[\u001b[38;5;124m\"\u001b[39m\u001b[38;5;124mfigure.figsize\u001b[39m\u001b[38;5;124m\"\u001b[39m]\n",
      "File \u001b[0;32m~/programming/NASA-Hackathon/.venv/lib/python3.11/site-packages/detectree/classifier.py:466\u001b[0m, in \u001b[0;36mClassifier.predict_img\u001b[0;34m(self, img_filepath, img_cluster, output_filepath)\u001b[0m\n\u001b[1;32m    461\u001b[0m     \u001b[38;5;28;01melse\u001b[39;00m:\n\u001b[1;32m    462\u001b[0m         \u001b[38;5;28;01mraise\u001b[39;00m \u001b[38;5;167;01mValueError\u001b[39;00m(\n\u001b[1;32m    463\u001b[0m             \u001b[38;5;124m\"\u001b[39m\u001b[38;5;124mA valid `img_cluster` must be provided for classifiers\u001b[39m\u001b[38;5;124m\"\u001b[39m\n\u001b[1;32m    464\u001b[0m             \u001b[38;5;124m\"\u001b[39m\u001b[38;5;124m instantiated with `clf_dict`.\u001b[39m\u001b[38;5;124m\"\u001b[39m\n\u001b[1;32m    465\u001b[0m         )\n\u001b[0;32m--> 466\u001b[0m \u001b[38;5;28;01mreturn\u001b[39;00m \u001b[38;5;28;43mself\u001b[39;49m\u001b[38;5;241;43m.\u001b[39;49m\u001b[43m_predict_img\u001b[49m\u001b[43m(\u001b[49m\u001b[43mimg_filepath\u001b[49m\u001b[43m,\u001b[49m\u001b[43m \u001b[49m\u001b[43mclf\u001b[49m\u001b[43m,\u001b[49m\u001b[43m \u001b[49m\u001b[43moutput_filepath\u001b[49m\u001b[38;5;241;43m=\u001b[39;49m\u001b[43moutput_filepath\u001b[49m\u001b[43m)\u001b[49m\n",
      "File \u001b[0;32m~/programming/NASA-Hackathon/.venv/lib/python3.11/site-packages/detectree/classifier.py:356\u001b[0m, in \u001b[0;36mClassifier._predict_img\u001b[0;34m(self, img_filepath, clf, output_filepath)\u001b[0m\n\u001b[1;32m    354\u001b[0m \u001b[38;5;28;01melse\u001b[39;00m:\n\u001b[1;32m    355\u001b[0m     p_nontree, p_tree \u001b[38;5;241m=\u001b[39m np\u001b[38;5;241m.\u001b[39mhsplit(clf\u001b[38;5;241m.\u001b[39mpredict_proba(X), \u001b[38;5;241m2\u001b[39m)\n\u001b[0;32m--> 356\u001b[0m     g \u001b[38;5;241m=\u001b[39m \u001b[43mmf\u001b[49m\u001b[38;5;241;43m.\u001b[39;49m\u001b[43mGraph\u001b[49m[\u001b[38;5;28mint\u001b[39m]()\n\u001b[1;32m    357\u001b[0m     node_ids \u001b[38;5;241m=\u001b[39m g\u001b[38;5;241m.\u001b[39madd_grid_nodes(img_shape)\n\u001b[1;32m    358\u001b[0m     P_nontree \u001b[38;5;241m=\u001b[39m p_nontree\u001b[38;5;241m.\u001b[39mreshape(img_shape)\n",
      "\u001b[0;31mAttributeError\u001b[0m: module 'maxflow' has no attribute 'Graph'"
     ]
    }
   ],
   "source": [
    "from urllib import request\n",
    "\n",
    "import detectree as dtr\n",
    "import matplotlib.pyplot as plt\n",
    "import rasterio as rio\n",
    "from rasterio import plot\n",
    "\n",
    "# download a tile from the SWISSIMAGE WMS\n",
    "tile_url = (\n",
    "    \"https://wms.geo.admin.ch/?SERVICE=WMS&REQUEST=GetMap&VERSION=1.3.0&\"\n",
    "    \"FORMAT=image/png&LAYERS=ch.swisstopo.images-swissimage&CRS=EPSG:2056\"\n",
    "    \"&BBOX=2532980,1152150,2533380,1152450&WIDTH=800&HEIGHT=600\"\n",
    ")\n",
    "tile_filename = \"tile.png\"\n",
    "request.urlretrieve(tile_url, tile_filename)\n",
    "\n",
    "# use the pre-trained model to segment the image into tree/non-tree-pixels\n",
    "y_pred = dtr.Classifier().predict_img(tile_filename)\n",
    "\n",
    "# side-by-side plot of the tile and the predicted tree/non-tree pixels\n",
    "figwidth, figheight = plt.rcParams[\"figure.figsize\"]\n",
    "fig, axes = plt.subplots(1, 2, figsize=(2 * figwidth, figheight))\n",
    "with rio.open(tile_filename) as src:\n",
    "    plot.show(src, ax=axes[0])\n",
    "axes[1].imshow(y_pred)"
   ]
  },
  {
   "cell_type": "code",
   "execution_count": null,
   "metadata": {},
   "outputs": [],
   "source": []
  }
 ],
 "metadata": {
  "kernelspec": {
   "display_name": ".venv",
   "language": "python",
   "name": "python3"
  },
  "language_info": {
   "codemirror_mode": {
    "name": "ipython",
    "version": 3
   },
   "file_extension": ".py",
   "mimetype": "text/x-python",
   "name": "python",
   "nbconvert_exporter": "python",
   "pygments_lexer": "ipython3",
   "version": "3.11.6"
  }
 },
 "nbformat": 4,
 "nbformat_minor": 2
}
